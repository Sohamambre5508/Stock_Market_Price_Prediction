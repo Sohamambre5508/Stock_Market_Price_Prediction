{
  "nbformat": 4,
  "nbformat_minor": 0,
  "metadata": {
    "colab": {
      "provenance": []
    },
    "kernelspec": {
      "name": "python3",
      "display_name": "Python 3"
    },
    "language_info": {
      "name": "python"
    }
  },
  "cells": [
    {
      "cell_type": "code",
      "execution_count": 1,
      "metadata": {
        "id": "u55IQ9W8OTjb"
      },
      "outputs": [],
      "source": [
        "import numpy as np\n",
        "import pandas as pd\n",
        "import matplotlib.pyplot as plt\n",
        "import yfinance as yf"
      ]
    },
    {
      "cell_type": "code",
      "source": [
        "start = \"2012-01-01\"\n",
        "end=\"2022-10-31\"\n",
        "stock='GOOG'\n",
        "\n",
        "data = yf.download(stock,start,end)"
      ],
      "metadata": {
        "colab": {
          "base_uri": "https://localhost:8080/"
        },
        "id": "_5r0L-jgTffI",
        "outputId": "6b11d8d0-9408-48de-bfbb-855ebb901f79"
      },
      "execution_count": 3,
      "outputs": [
        {
          "output_type": "stream",
          "name": "stdout",
          "text": [
            "\r[*********************100%%**********************]  1 of 1 completed\n"
          ]
        }
      ]
    },
    {
      "cell_type": "code",
      "source": [
        "data.reset_index(inplace=True)"
      ],
      "metadata": {
        "id": "I_62848FT8to"
      },
      "execution_count": 5,
      "outputs": []
    },
    {
      "cell_type": "code",
      "source": [
        "data"
      ],
      "metadata": {
        "colab": {
          "base_uri": "https://localhost:8080/",
          "height": 424
        },
        "id": "R1vdoeaPUIlb",
        "outputId": "2c77fc44-a5b6-448a-ea7c-fb630cf36459"
      },
      "execution_count": 8,
      "outputs": [
        {
          "output_type": "execute_result",
          "data": {
            "text/plain": [
              "           Date        Open        High         Low       Close   Adj Close  \\\n",
              "0    2012-01-03   16.262545   16.641375   16.248346   16.573130   16.573130   \n",
              "1    2012-01-04   16.563665   16.693678   16.453827   16.644611   16.644611   \n",
              "2    2012-01-05   16.491436   16.537264   16.344486   16.413727   16.413727   \n",
              "3    2012-01-06   16.417213   16.438385   16.184088   16.189817   16.189817   \n",
              "4    2012-01-09   16.102144   16.114599   15.472754   15.503389   15.503389   \n",
              "...         ...         ...         ...         ...         ...         ...   \n",
              "2720 2022-10-24  102.089996  103.099998  100.300003  102.970001  102.970001   \n",
              "2721 2022-10-25  103.300003  105.099998  103.019997  104.930000  104.930000   \n",
              "2722 2022-10-26   96.760002   98.540001   94.570000   94.820000   94.820000   \n",
              "2723 2022-10-27   94.309998   95.169998   91.900002   92.599998   92.599998   \n",
              "2724 2022-10-28   92.529999   96.860001   92.322998   96.580002   96.580002   \n",
              "\n",
              "         Volume  \n",
              "0     147611217  \n",
              "1     114989399  \n",
              "2     131808205  \n",
              "3     108119746  \n",
              "4     233776981  \n",
              "...         ...  \n",
              "2720   24680800  \n",
              "2721   29910200  \n",
              "2722   71504300  \n",
              "2723   54036500  \n",
              "2724   35696900  \n",
              "\n",
              "[2725 rows x 7 columns]"
            ],
            "text/html": [
              "\n",
              "  <div id=\"df-96c3081e-9282-43be-9874-1913aaa4ed92\" class=\"colab-df-container\">\n",
              "    <div>\n",
              "<style scoped>\n",
              "    .dataframe tbody tr th:only-of-type {\n",
              "        vertical-align: middle;\n",
              "    }\n",
              "\n",
              "    .dataframe tbody tr th {\n",
              "        vertical-align: top;\n",
              "    }\n",
              "\n",
              "    .dataframe thead th {\n",
              "        text-align: right;\n",
              "    }\n",
              "</style>\n",
              "<table border=\"1\" class=\"dataframe\">\n",
              "  <thead>\n",
              "    <tr style=\"text-align: right;\">\n",
              "      <th></th>\n",
              "      <th>Date</th>\n",
              "      <th>Open</th>\n",
              "      <th>High</th>\n",
              "      <th>Low</th>\n",
              "      <th>Close</th>\n",
              "      <th>Adj Close</th>\n",
              "      <th>Volume</th>\n",
              "    </tr>\n",
              "  </thead>\n",
              "  <tbody>\n",
              "    <tr>\n",
              "      <th>0</th>\n",
              "      <td>2012-01-03</td>\n",
              "      <td>16.262545</td>\n",
              "      <td>16.641375</td>\n",
              "      <td>16.248346</td>\n",
              "      <td>16.573130</td>\n",
              "      <td>16.573130</td>\n",
              "      <td>147611217</td>\n",
              "    </tr>\n",
              "    <tr>\n",
              "      <th>1</th>\n",
              "      <td>2012-01-04</td>\n",
              "      <td>16.563665</td>\n",
              "      <td>16.693678</td>\n",
              "      <td>16.453827</td>\n",
              "      <td>16.644611</td>\n",
              "      <td>16.644611</td>\n",
              "      <td>114989399</td>\n",
              "    </tr>\n",
              "    <tr>\n",
              "      <th>2</th>\n",
              "      <td>2012-01-05</td>\n",
              "      <td>16.491436</td>\n",
              "      <td>16.537264</td>\n",
              "      <td>16.344486</td>\n",
              "      <td>16.413727</td>\n",
              "      <td>16.413727</td>\n",
              "      <td>131808205</td>\n",
              "    </tr>\n",
              "    <tr>\n",
              "      <th>3</th>\n",
              "      <td>2012-01-06</td>\n",
              "      <td>16.417213</td>\n",
              "      <td>16.438385</td>\n",
              "      <td>16.184088</td>\n",
              "      <td>16.189817</td>\n",
              "      <td>16.189817</td>\n",
              "      <td>108119746</td>\n",
              "    </tr>\n",
              "    <tr>\n",
              "      <th>4</th>\n",
              "      <td>2012-01-09</td>\n",
              "      <td>16.102144</td>\n",
              "      <td>16.114599</td>\n",
              "      <td>15.472754</td>\n",
              "      <td>15.503389</td>\n",
              "      <td>15.503389</td>\n",
              "      <td>233776981</td>\n",
              "    </tr>\n",
              "    <tr>\n",
              "      <th>...</th>\n",
              "      <td>...</td>\n",
              "      <td>...</td>\n",
              "      <td>...</td>\n",
              "      <td>...</td>\n",
              "      <td>...</td>\n",
              "      <td>...</td>\n",
              "      <td>...</td>\n",
              "    </tr>\n",
              "    <tr>\n",
              "      <th>2720</th>\n",
              "      <td>2022-10-24</td>\n",
              "      <td>102.089996</td>\n",
              "      <td>103.099998</td>\n",
              "      <td>100.300003</td>\n",
              "      <td>102.970001</td>\n",
              "      <td>102.970001</td>\n",
              "      <td>24680800</td>\n",
              "    </tr>\n",
              "    <tr>\n",
              "      <th>2721</th>\n",
              "      <td>2022-10-25</td>\n",
              "      <td>103.300003</td>\n",
              "      <td>105.099998</td>\n",
              "      <td>103.019997</td>\n",
              "      <td>104.930000</td>\n",
              "      <td>104.930000</td>\n",
              "      <td>29910200</td>\n",
              "    </tr>\n",
              "    <tr>\n",
              "      <th>2722</th>\n",
              "      <td>2022-10-26</td>\n",
              "      <td>96.760002</td>\n",
              "      <td>98.540001</td>\n",
              "      <td>94.570000</td>\n",
              "      <td>94.820000</td>\n",
              "      <td>94.820000</td>\n",
              "      <td>71504300</td>\n",
              "    </tr>\n",
              "    <tr>\n",
              "      <th>2723</th>\n",
              "      <td>2022-10-27</td>\n",
              "      <td>94.309998</td>\n",
              "      <td>95.169998</td>\n",
              "      <td>91.900002</td>\n",
              "      <td>92.599998</td>\n",
              "      <td>92.599998</td>\n",
              "      <td>54036500</td>\n",
              "    </tr>\n",
              "    <tr>\n",
              "      <th>2724</th>\n",
              "      <td>2022-10-28</td>\n",
              "      <td>92.529999</td>\n",
              "      <td>96.860001</td>\n",
              "      <td>92.322998</td>\n",
              "      <td>96.580002</td>\n",
              "      <td>96.580002</td>\n",
              "      <td>35696900</td>\n",
              "    </tr>\n",
              "  </tbody>\n",
              "</table>\n",
              "<p>2725 rows × 7 columns</p>\n",
              "</div>\n",
              "    <div class=\"colab-df-buttons\">\n",
              "\n",
              "  <div class=\"colab-df-container\">\n",
              "    <button class=\"colab-df-convert\" onclick=\"convertToInteractive('df-96c3081e-9282-43be-9874-1913aaa4ed92')\"\n",
              "            title=\"Convert this dataframe to an interactive table.\"\n",
              "            style=\"display:none;\">\n",
              "\n",
              "  <svg xmlns=\"http://www.w3.org/2000/svg\" height=\"24px\" viewBox=\"0 -960 960 960\">\n",
              "    <path d=\"M120-120v-720h720v720H120Zm60-500h600v-160H180v160Zm220 220h160v-160H400v160Zm0 220h160v-160H400v160ZM180-400h160v-160H180v160Zm440 0h160v-160H620v160ZM180-180h160v-160H180v160Zm440 0h160v-160H620v160Z\"/>\n",
              "  </svg>\n",
              "    </button>\n",
              "\n",
              "  <style>\n",
              "    .colab-df-container {\n",
              "      display:flex;\n",
              "      gap: 12px;\n",
              "    }\n",
              "\n",
              "    .colab-df-convert {\n",
              "      background-color: #E8F0FE;\n",
              "      border: none;\n",
              "      border-radius: 50%;\n",
              "      cursor: pointer;\n",
              "      display: none;\n",
              "      fill: #1967D2;\n",
              "      height: 32px;\n",
              "      padding: 0 0 0 0;\n",
              "      width: 32px;\n",
              "    }\n",
              "\n",
              "    .colab-df-convert:hover {\n",
              "      background-color: #E2EBFA;\n",
              "      box-shadow: 0px 1px 2px rgba(60, 64, 67, 0.3), 0px 1px 3px 1px rgba(60, 64, 67, 0.15);\n",
              "      fill: #174EA6;\n",
              "    }\n",
              "\n",
              "    .colab-df-buttons div {\n",
              "      margin-bottom: 4px;\n",
              "    }\n",
              "\n",
              "    [theme=dark] .colab-df-convert {\n",
              "      background-color: #3B4455;\n",
              "      fill: #D2E3FC;\n",
              "    }\n",
              "\n",
              "    [theme=dark] .colab-df-convert:hover {\n",
              "      background-color: #434B5C;\n",
              "      box-shadow: 0px 1px 3px 1px rgba(0, 0, 0, 0.15);\n",
              "      filter: drop-shadow(0px 1px 2px rgba(0, 0, 0, 0.3));\n",
              "      fill: #FFFFFF;\n",
              "    }\n",
              "  </style>\n",
              "\n",
              "    <script>\n",
              "      const buttonEl =\n",
              "        document.querySelector('#df-96c3081e-9282-43be-9874-1913aaa4ed92 button.colab-df-convert');\n",
              "      buttonEl.style.display =\n",
              "        google.colab.kernel.accessAllowed ? 'block' : 'none';\n",
              "\n",
              "      async function convertToInteractive(key) {\n",
              "        const element = document.querySelector('#df-96c3081e-9282-43be-9874-1913aaa4ed92');\n",
              "        const dataTable =\n",
              "          await google.colab.kernel.invokeFunction('convertToInteractive',\n",
              "                                                    [key], {});\n",
              "        if (!dataTable) return;\n",
              "\n",
              "        const docLinkHtml = 'Like what you see? Visit the ' +\n",
              "          '<a target=\"_blank\" href=https://colab.research.google.com/notebooks/data_table.ipynb>data table notebook</a>'\n",
              "          + ' to learn more about interactive tables.';\n",
              "        element.innerHTML = '';\n",
              "        dataTable['output_type'] = 'display_data';\n",
              "        await google.colab.output.renderOutput(dataTable, element);\n",
              "        const docLink = document.createElement('div');\n",
              "        docLink.innerHTML = docLinkHtml;\n",
              "        element.appendChild(docLink);\n",
              "      }\n",
              "    </script>\n",
              "  </div>\n",
              "\n",
              "\n",
              "<div id=\"df-e059b546-612a-4fd3-ae0b-58b5e482ac1a\">\n",
              "  <button class=\"colab-df-quickchart\" onclick=\"quickchart('df-e059b546-612a-4fd3-ae0b-58b5e482ac1a')\"\n",
              "            title=\"Suggest charts\"\n",
              "            style=\"display:none;\">\n",
              "\n",
              "<svg xmlns=\"http://www.w3.org/2000/svg\" height=\"24px\"viewBox=\"0 0 24 24\"\n",
              "     width=\"24px\">\n",
              "    <g>\n",
              "        <path d=\"M19 3H5c-1.1 0-2 .9-2 2v14c0 1.1.9 2 2 2h14c1.1 0 2-.9 2-2V5c0-1.1-.9-2-2-2zM9 17H7v-7h2v7zm4 0h-2V7h2v10zm4 0h-2v-4h2v4z\"/>\n",
              "    </g>\n",
              "</svg>\n",
              "  </button>\n",
              "\n",
              "<style>\n",
              "  .colab-df-quickchart {\n",
              "      --bg-color: #E8F0FE;\n",
              "      --fill-color: #1967D2;\n",
              "      --hover-bg-color: #E2EBFA;\n",
              "      --hover-fill-color: #174EA6;\n",
              "      --disabled-fill-color: #AAA;\n",
              "      --disabled-bg-color: #DDD;\n",
              "  }\n",
              "\n",
              "  [theme=dark] .colab-df-quickchart {\n",
              "      --bg-color: #3B4455;\n",
              "      --fill-color: #D2E3FC;\n",
              "      --hover-bg-color: #434B5C;\n",
              "      --hover-fill-color: #FFFFFF;\n",
              "      --disabled-bg-color: #3B4455;\n",
              "      --disabled-fill-color: #666;\n",
              "  }\n",
              "\n",
              "  .colab-df-quickchart {\n",
              "    background-color: var(--bg-color);\n",
              "    border: none;\n",
              "    border-radius: 50%;\n",
              "    cursor: pointer;\n",
              "    display: none;\n",
              "    fill: var(--fill-color);\n",
              "    height: 32px;\n",
              "    padding: 0;\n",
              "    width: 32px;\n",
              "  }\n",
              "\n",
              "  .colab-df-quickchart:hover {\n",
              "    background-color: var(--hover-bg-color);\n",
              "    box-shadow: 0 1px 2px rgba(60, 64, 67, 0.3), 0 1px 3px 1px rgba(60, 64, 67, 0.15);\n",
              "    fill: var(--button-hover-fill-color);\n",
              "  }\n",
              "\n",
              "  .colab-df-quickchart-complete:disabled,\n",
              "  .colab-df-quickchart-complete:disabled:hover {\n",
              "    background-color: var(--disabled-bg-color);\n",
              "    fill: var(--disabled-fill-color);\n",
              "    box-shadow: none;\n",
              "  }\n",
              "\n",
              "  .colab-df-spinner {\n",
              "    border: 2px solid var(--fill-color);\n",
              "    border-color: transparent;\n",
              "    border-bottom-color: var(--fill-color);\n",
              "    animation:\n",
              "      spin 1s steps(1) infinite;\n",
              "  }\n",
              "\n",
              "  @keyframes spin {\n",
              "    0% {\n",
              "      border-color: transparent;\n",
              "      border-bottom-color: var(--fill-color);\n",
              "      border-left-color: var(--fill-color);\n",
              "    }\n",
              "    20% {\n",
              "      border-color: transparent;\n",
              "      border-left-color: var(--fill-color);\n",
              "      border-top-color: var(--fill-color);\n",
              "    }\n",
              "    30% {\n",
              "      border-color: transparent;\n",
              "      border-left-color: var(--fill-color);\n",
              "      border-top-color: var(--fill-color);\n",
              "      border-right-color: var(--fill-color);\n",
              "    }\n",
              "    40% {\n",
              "      border-color: transparent;\n",
              "      border-right-color: var(--fill-color);\n",
              "      border-top-color: var(--fill-color);\n",
              "    }\n",
              "    60% {\n",
              "      border-color: transparent;\n",
              "      border-right-color: var(--fill-color);\n",
              "    }\n",
              "    80% {\n",
              "      border-color: transparent;\n",
              "      border-right-color: var(--fill-color);\n",
              "      border-bottom-color: var(--fill-color);\n",
              "    }\n",
              "    90% {\n",
              "      border-color: transparent;\n",
              "      border-bottom-color: var(--fill-color);\n",
              "    }\n",
              "  }\n",
              "</style>\n",
              "\n",
              "  <script>\n",
              "    async function quickchart(key) {\n",
              "      const quickchartButtonEl =\n",
              "        document.querySelector('#' + key + ' button');\n",
              "      quickchartButtonEl.disabled = true;  // To prevent multiple clicks.\n",
              "      quickchartButtonEl.classList.add('colab-df-spinner');\n",
              "      try {\n",
              "        const charts = await google.colab.kernel.invokeFunction(\n",
              "            'suggestCharts', [key], {});\n",
              "      } catch (error) {\n",
              "        console.error('Error during call to suggestCharts:', error);\n",
              "      }\n",
              "      quickchartButtonEl.classList.remove('colab-df-spinner');\n",
              "      quickchartButtonEl.classList.add('colab-df-quickchart-complete');\n",
              "    }\n",
              "    (() => {\n",
              "      let quickchartButtonEl =\n",
              "        document.querySelector('#df-e059b546-612a-4fd3-ae0b-58b5e482ac1a button');\n",
              "      quickchartButtonEl.style.display =\n",
              "        google.colab.kernel.accessAllowed ? 'block' : 'none';\n",
              "    })();\n",
              "  </script>\n",
              "</div>\n",
              "    </div>\n",
              "  </div>\n"
            ]
          },
          "metadata": {},
          "execution_count": 8
        }
      ]
    },
    {
      "cell_type": "code",
      "source": [
        "ma_100_days=data.Close.rolling(100).mean()"
      ],
      "metadata": {
        "id": "ZDSM5tLOUgoC"
      },
      "execution_count": 9,
      "outputs": []
    },
    {
      "cell_type": "code",
      "source": [
        "plt.figure(figsize=(8,6))\n",
        "plt.plot(ma_100_days,'r')\n",
        "plt.plot(data.Close,'g')\n",
        "plt.show()"
      ],
      "metadata": {
        "colab": {
          "base_uri": "https://localhost:8080/",
          "height": 522
        },
        "id": "Vnb1Eg7YUwH5",
        "outputId": "b257125b-a8f3-4c4f-c22c-bc21fad77554"
      },
      "execution_count": 10,
      "outputs": [
        {
          "output_type": "display_data",
          "data": {
            "text/plain": [
              "<Figure size 800x600 with 1 Axes>"
            ],
            "image/png": "[encoded data removed]"
          },
          "metadata": {}
        }
      ]
    },
    {
      "cell_type": "code",
      "source": [
        "ma_200_days= data.Close.rolling(200).mean()"
      ],
      "metadata": {
        "id": "MOEaTM2aU_Gd"
      },
      "execution_count": 11,
      "outputs": []
    },
    {
      "cell_type": "code",
      "source": [
        "plt.figure(figsize=(8,6))\n",
        "plt.plot(ma_100_days,'r')\n",
        "plt.plot(ma_200_days,'b')\n",
        "plt.plot(data.Close,'g')\n",
        "plt.show()"
      ],
      "metadata": {
        "colab": {
          "base_uri": "https://localhost:8080/",
          "height": 522
        },
        "id": "OS-lkQQOVJT2",
        "outputId": "eb99c3a4-577e-406e-ccc0-e24449be81f4"
      },
      "execution_count": 12,
      "outputs": [
        {
          "output_type": "display_data",
          "data": {
            "text/plain": [
              "<Figure size 800x600 with 1 Axes>"
            ],
            "image/png": "[encoded data removed]"
          },
          "metadata": {}
        }
      ]
    },
    {
      "cell_type": "code",
      "source": [
        "data.dropna(inplace=True)"
      ],
      "metadata": {
        "id": "KeJs2P7iVeJ5"
      },
      "execution_count": 13,
      "outputs": []
    },
    {
      "cell_type": "code",
      "source": [
        "data_train = pd.DataFrame(data.Close[0:int(len(data)*0.80)])\n",
        "data_test = pd.DataFrame(data.Close[int(len(data)*0.80):len(data)])"
      ],
      "metadata": {
        "id": "_Co4veF-VuOi"
      },
      "execution_count": 18,
      "outputs": []
    },
    {
      "cell_type": "code",
      "source": [
        "data_train.shape[0]"
      ],
      "metadata": {
        "colab": {
          "base_uri": "https://localhost:8080/"
        },
        "id": "LlwqNzBvWOtx",
        "outputId": "7233ba01-3437-427b-eb9c-a40a4eff3b6a"
      },
      "execution_count": 20,
      "outputs": [
        {
          "output_type": "execute_result",
          "data": {
            "text/plain": [
              "2180"
            ]
          },
          "metadata": {},
          "execution_count": 20
        }
      ]
    },
    {
      "cell_type": "code",
      "source": [
        "data_test.shape[0]"
      ],
      "metadata": {
        "colab": {
          "base_uri": "https://localhost:8080/"
        },
        "id": "Knk9JsIZWuS0",
        "outputId": "2a6d1ca5-b09a-41fd-851a-54581ec0bca8"
      },
      "execution_count": 21,
      "outputs": [
        {
          "output_type": "execute_result",
          "data": {
            "text/plain": [
              "545"
            ]
          },
          "metadata": {},
          "execution_count": 21
        }
      ]
    },
    {
      "cell_type": "code",
      "source": [
        "from sklearn.preprocessing import MinMaxScaler\n",
        "scaler = MinMaxScaler(feature_range = (0,1))"
      ],
      "metadata": {
        "id": "EESPjrmBW2Kw"
      },
      "execution_count": 23,
      "outputs": []
    },
    {
      "cell_type": "code",
      "source": [
        "data_train_scale = scaler.fit_transform(data_train)"
      ],
      "metadata": {
        "id": "FN-PTfZEXEV9"
      },
      "execution_count": 24,
      "outputs": []
    },
    {
      "cell_type": "code",
      "source": [
        "x=[]\n",
        "y=[]\n",
        "for i in range(100,data_train_scale.shape[0]):\n",
        "  x.append(data_train_scale[i-100:i])\n",
        "  y.append(data_train_scale[i,0])\n"
      ],
      "metadata": {
        "id": "e6Wi73SbXN2t"
      },
      "execution_count": 29,
      "outputs": []
    },
    {
      "cell_type": "code",
      "source": [
        "x,y = np.array(x),np.array(y)"
      ],
      "metadata": {
        "id": "YY9QGBDlZfzA"
      },
      "execution_count": 32,
      "outputs": []
    },
    {
      "cell_type": "code",
      "source": [
        "from keras.layers import Dense,Dropout,LSTM\n",
        "from keras.models import Sequential"
      ],
      "metadata": {
        "id": "Z5CuOAvSX7Lc"
      },
      "execution_count": 35,
      "outputs": []
    },
    {
      "cell_type": "code",
      "source": [
        "model= Sequential()\n",
        "model.add(LSTM(units = 50, activation = 'relu', return_sequences = True,\n",
        "               input_shape= ((x.shape[1],1))))\n",
        "model.add(Dropout(0.2))\n",
        "\n",
        "model.add(LSTM(units=60, activation='relu', return_sequences=True))\n",
        "model.add(Dropout(0.3))\n",
        "\n",
        "model.add(LSTM(units=80, activation='relu',return_sequences=True))\n",
        "model.add(Dropout(0.4))\n",
        "\n",
        "model.add(LSTM(units=120, activation='relu'))\n",
        "model.add(Dropout(0.5))\n",
        "\n",
        "model.add(Dense(units=1))\n"
      ],
      "metadata": {
        "id": "RBMBOPKmYan-"
      },
      "execution_count": 41,
      "outputs": []
    },
    {
      "cell_type": "code",
      "source": [
        "model.compile(optimizer ='adam',loss='mean_squared_error')"
      ],
      "metadata": {
        "id": "yE0vu-j6ZWx8"
      },
      "execution_count": 42,
      "outputs": []
    },
    {
      "cell_type": "code",
      "source": [
        "model.fit(x,y,epochs=50,batch_size=32,verbose=1)"
      ],
      "metadata": {
        "colab": {
          "base_uri": "https://localhost:8080/"
        },
        "id": "FI8taxyKaGb8",
        "outputId": "ee9c3996-2596-4d54-c8d5-c20d7bcc22bf"
      },
      "execution_count": 43,
      "outputs": [
        {
          "output_type": "stream",
          "name": "stdout",
          "text": [
            "Epoch 1/50\n",
            "65/65 [==============================] - 23s 270ms/step - loss: 0.0397\n",
            "Epoch 2/50\n",
            "65/65 [==============================] - 18s 271ms/step - loss: 0.0091\n",
            "Epoch 3/50\n",
            "65/65 [==============================] - 19s 291ms/step - loss: 0.0072\n",
            "Epoch 4/50\n",
            "65/65 [==============================] - 21s 315ms/step - loss: 0.0066\n",
            "Epoch 5/50\n",
            "65/65 [==============================] - 18s 271ms/step - loss: 0.0069\n",
            "Epoch 6/50\n",
            "65/65 [==============================] - 18s 270ms/step - loss: 0.0052\n",
            "Epoch 7/50\n",
            "65/65 [==============================] - 18s 277ms/step - loss: 0.0053\n",
            "Epoch 8/50\n",
            "65/65 [==============================] - 19s 297ms/step - loss: 0.0056\n",
            "Epoch 9/50\n",
            "65/65 [==============================] - 18s 270ms/step - loss: 0.0059\n",
            "Epoch 10/50\n",
            "65/65 [==============================] - 20s 303ms/step - loss: 0.0052\n",
            "Epoch 11/50\n",
            "65/65 [==============================] - 18s 275ms/step - loss: 0.0052\n",
            "Epoch 12/50\n",
            "65/65 [==============================] - 19s 294ms/step - loss: 0.0047\n",
            "Epoch 13/50\n",
            "65/65 [==============================] - 17s 267ms/step - loss: 0.0049\n",
            "Epoch 14/50\n",
            "65/65 [==============================] - 17s 268ms/step - loss: 0.0046\n",
            "Epoch 15/50\n",
            "65/65 [==============================] - 17s 269ms/step - loss: 0.0042\n",
            "Epoch 16/50\n",
            "65/65 [==============================] - 18s 280ms/step - loss: 0.0047\n",
            "Epoch 17/50\n",
            "65/65 [==============================] - 21s 323ms/step - loss: 0.0041\n",
            "Epoch 18/50\n",
            "65/65 [==============================] - 17s 267ms/step - loss: 0.0040\n",
            "Epoch 19/50\n",
            "65/65 [==============================] - 17s 268ms/step - loss: 0.0037\n",
            "Epoch 20/50\n",
            "65/65 [==============================] - 17s 267ms/step - loss: 0.0038\n",
            "Epoch 21/50\n",
            "65/65 [==============================] - 18s 277ms/step - loss: 0.0033\n",
            "Epoch 22/50\n",
            "65/65 [==============================] - 19s 291ms/step - loss: 0.0035\n",
            "Epoch 23/50\n",
            "65/65 [==============================] - 17s 268ms/step - loss: 0.0036\n",
            "Epoch 24/50\n",
            "65/65 [==============================] - 20s 303ms/step - loss: 0.0034\n",
            "Epoch 25/50\n",
            "65/65 [==============================] - 17s 268ms/step - loss: 0.0032\n",
            "Epoch 26/50\n",
            "65/65 [==============================] - 17s 269ms/step - loss: 0.0037\n",
            "Epoch 27/50\n",
            "65/65 [==============================] - 19s 297ms/step - loss: 0.0030\n",
            "Epoch 28/50\n",
            "65/65 [==============================] - 17s 268ms/step - loss: 0.0032\n",
            "Epoch 29/50\n",
            "65/65 [==============================] - 17s 267ms/step - loss: 0.0029\n",
            "Epoch 30/50\n",
            "65/65 [==============================] - 17s 269ms/step - loss: 0.0034\n",
            "Epoch 31/50\n",
            "65/65 [==============================] - 22s 336ms/step - loss: 0.0027\n",
            "Epoch 32/50\n",
            "65/65 [==============================] - 17s 268ms/step - loss: 0.0027\n",
            "Epoch 33/50\n",
            "65/65 [==============================] - 17s 267ms/step - loss: 0.0028\n",
            "Epoch 34/50\n",
            "65/65 [==============================] - 17s 267ms/step - loss: 0.0029\n",
            "Epoch 35/50\n",
            "65/65 [==============================] - 17s 268ms/step - loss: 0.0031\n",
            "Epoch 36/50\n",
            "65/65 [==============================] - 20s 298ms/step - loss: 0.0031\n",
            "Epoch 37/50\n",
            "65/65 [==============================] - 18s 268ms/step - loss: 0.0028\n",
            "Epoch 38/50\n",
            "65/65 [==============================] - 20s 302ms/step - loss: 0.0028\n",
            "Epoch 39/50\n",
            "65/65 [==============================] - 17s 268ms/step - loss: 0.0027\n",
            "Epoch 40/50\n",
            "65/65 [==============================] - 19s 287ms/step - loss: 0.0025\n",
            "Epoch 41/50\n",
            "65/65 [==============================] - 18s 279ms/step - loss: 0.0027\n",
            "Epoch 42/50\n",
            "65/65 [==============================] - 17s 269ms/step - loss: 0.0026\n",
            "Epoch 43/50\n",
            "65/65 [==============================] - 17s 268ms/step - loss: 0.0028\n",
            "Epoch 44/50\n",
            "65/65 [==============================] - 17s 269ms/step - loss: 0.0026\n",
            "Epoch 45/50\n",
            "65/65 [==============================] - 21s 328ms/step - loss: 0.0026\n",
            "Epoch 46/50\n",
            "65/65 [==============================] - 18s 277ms/step - loss: 0.0024\n",
            "Epoch 47/50\n",
            "65/65 [==============================] - 17s 268ms/step - loss: 0.0027\n",
            "Epoch 48/50\n",
            "65/65 [==============================] - 17s 269ms/step - loss: 0.0025\n",
            "Epoch 49/50\n",
            "65/65 [==============================] - 18s 271ms/step - loss: 0.0026\n",
            "Epoch 50/50\n",
            "65/65 [==============================] - 19s 299ms/step - loss: 0.0024\n"
          ]
        },
        {
          "output_type": "execute_result",
          "data": {
            "text/plain": [
              "<keras.src.callbacks.History at 0x79fd77cc88e0>"
            ]
          },
          "metadata": {},
          "execution_count": 43
        }
      ]
    },
    {
      "cell_type": "code",
      "source": [
        "model.summary()\n"
      ],
      "metadata": {
        "colab": {
          "base_uri": "https://localhost:8080/"
        },
        "id": "zoRxXJXBaR3c",
        "outputId": "7f2aab42-9d9d-473e-9ad5-8db6868156a2"
      },
      "execution_count": 44,
      "outputs": [
        {
          "output_type": "stream",
          "name": "stdout",
          "text": [
            "Model: \"sequential_5\"\n",
            "_________________________________________________________________\n",
            " Layer (type)                Output Shape              Param #   \n",
            "=================================================================\n",
            " lstm_4 (LSTM)               (None, 100, 50)           10400     \n",
            "                                                                 \n",
            " dropout_4 (Dropout)         (None, 100, 50)           0         \n",
            "                                                                 \n",
            " lstm_5 (LSTM)               (None, 100, 60)           26640     \n",
            "                                                                 \n",
            " dropout_5 (Dropout)         (None, 100, 60)           0         \n",
            "                                                                 \n",
            " lstm_6 (LSTM)               (None, 100, 80)           45120     \n",
            "                                                                 \n",
            " dropout_6 (Dropout)         (None, 100, 80)           0         \n",
            "                                                                 \n",
            " lstm_7 (LSTM)               (None, 120)               96480     \n",
            "                                                                 \n",
            " dropout_7 (Dropout)         (None, 120)               0         \n",
            "                                                                 \n",
            " dense_1 (Dense)             (None, 1)                 121       \n",
            "                                                                 \n",
            "=================================================================\n",
            "Total params: 178761 (698.29 KB)\n",
            "Trainable params: 178761 (698.29 KB)\n",
            "Non-trainable params: 0 (0.00 Byte)\n",
            "_________________________________________________________________\n"
          ]
        }
      ]
    },
    {
      "cell_type": "code",
      "source": [
        "pas_100_days= data_train.tail(100)"
      ],
      "metadata": {
        "id": "JhiN9ExRr2oJ"
      },
      "execution_count": 45,
      "outputs": []
    },
    {
      "cell_type": "code",
      "source": [
        "data_test=pd.concat([pas_100_days,data_test],ignore_index=True)"
      ],
      "metadata": {
        "id": "h75Nk8f-sNQ9"
      },
      "execution_count": 48,
      "outputs": []
    },
    {
      "cell_type": "code",
      "source": [
        "data_test_scale= scaler.fit_transform(data_test)"
      ],
      "metadata": {
        "id": "IIitCdLoslho"
      },
      "execution_count": 49,
      "outputs": []
    },
    {
      "cell_type": "code",
      "source": [
        "x=[]\n",
        "y=[]\n",
        "for i in range(100,data_train_scale.shape[0]):\n",
        "  x.append(data_train_scale[i-100:i])\n",
        "  y.append(data_train_scale[i,0])"
      ],
      "metadata": {
        "id": "ezFu3W9psYG2"
      },
      "execution_count": 50,
      "outputs": []
    },
    {
      "cell_type": "code",
      "source": [
        "x,y= np.array(x),np.array(y)"
      ],
      "metadata": {
        "id": "b9K_aEPks3Ja"
      },
      "execution_count": 51,
      "outputs": []
    },
    {
      "cell_type": "code",
      "source": [
        "y_predict= model.predict(x)"
      ],
      "metadata": {
        "colab": {
          "base_uri": "https://localhost:8080/"
        },
        "id": "nawQKg0FtA4f",
        "outputId": "4bfddd79-2c97-43ce-ee6e-d47a2f07a7dd"
      },
      "execution_count": 52,
      "outputs": [
        {
          "output_type": "stream",
          "name": "stdout",
          "text": [
            "65/65 [==============================] - 10s 136ms/step\n"
          ]
        }
      ]
    },
    {
      "cell_type": "code",
      "source": [
        "scale = 1/scaler.scale_"
      ],
      "metadata": {
        "id": "ak_QXKVntHjm"
      },
      "execution_count": 60,
      "outputs": []
    },
    {
      "cell_type": "code",
      "source": [
        "y_predict= y_predict*scale"
      ],
      "metadata": {
        "id": "7U8r6GMitMFf"
      },
      "execution_count": 61,
      "outputs": []
    },
    {
      "cell_type": "code",
      "source": [
        "y =y*scale"
      ],
      "metadata": {
        "id": "gemVKo6xttPb"
      },
      "execution_count": 62,
      "outputs": []
    },
    {
      "cell_type": "code",
      "source": [
        "plt.figure(figsize=(10,8))\n",
        "plt.plot(y_predict , 'r',label= 'Predict Price')\n",
        "plt.plot(y,'g',label= 'Original Price')\n",
        "plt.xlabel('Time')\n",
        "plt.ylabel('Price')\n",
        "plt.legend()\n",
        "plt.show()"
      ],
      "metadata": {
        "colab": {
          "base_uri": "https://localhost:8080/",
          "height": 696
        },
        "id": "5gmqffgnt8bv",
        "outputId": "f9099853-56e8-4718-e91b-e9bfe781f44b"
      },
      "execution_count": 66,
      "outputs": [
        {
          "output_type": "display_data",
          "data": {
            "text/plain": [
              "<Figure size 1000x800 with 1 Axes>"
            ],
            "image/png": "[encoded data removed]"
          },
          "metadata": {}
        }
      ]
    },
    {
      "cell_type": "code",
      "source": [
        "model.save('Stock Prediction Model.keras')"
      ],
      "metadata": {
        "id": "DzodWVaUub2-"
      },
      "execution_count": 67,
      "outputs": []
    },
    {
      "cell_type": "code",
      "source": [],
      "metadata": {
        "id": "A5EirhN3u3dL"
      },
      "execution_count": null,
      "outputs": []
    }
  ]
}